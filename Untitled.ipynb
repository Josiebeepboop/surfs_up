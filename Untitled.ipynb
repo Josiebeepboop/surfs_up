{
 "cells": [
  {
   "cell_type": "code",
   "execution_count": 1,
   "id": "b4521cbe",
   "metadata": {},
   "outputs": [],
   "source": [
    "beatles=['John','Paul','Ringo','George']\n"
   ]
  },
  {
   "cell_type": "code",
   "execution_count": 6,
   "id": "5749408e",
   "metadata": {},
   "outputs": [
    {
     "data": {
      "text/plain": [
       "['JOHN', 'PAUL', 'RINGO', 'GEORGE']"
      ]
     },
     "execution_count": 6,
     "metadata": {},
     "output_type": "execute_result"
    }
   ],
   "source": [
    "capital_beatles=[b.upper() for b in beatles]\n",
    "capital_beatles"
   ]
  },
  {
   "cell_type": "code",
   "execution_count": 5,
   "id": "4ae66587",
   "metadata": {},
   "outputs": [
    {
     "data": {
      "text/plain": [
       "'HELLO'"
      ]
     },
     "execution_count": 5,
     "metadata": {},
     "output_type": "execute_result"
    }
   ],
   "source": [
    "'hello'.upper()"
   ]
  },
  {
   "cell_type": "code",
   "execution_count": null,
   "id": "5d572f17",
   "metadata": {},
   "outputs": [],
   "source": [
    "if len(b)<=4"
   ]
  },
  {
   "cell_type": "code",
   "execution_count": 7,
   "id": "828dfa60",
   "metadata": {},
   "outputs": [
    {
     "data": {
      "text/plain": [
       "['John', 'Paul']"
      ]
     },
     "execution_count": 7,
     "metadata": {},
     "output_type": "execute_result"
    }
   ],
   "source": [
    "short_beatles=[b for b in beatles if len(b)<=4]\n",
    "short_beatles"
   ]
  },
  {
   "cell_type": "code",
   "execution_count": null,
   "id": "f5ccebda",
   "metadata": {},
   "outputs": [],
   "source": []
  }
 ],
 "metadata": {
  "kernelspec": {
   "display_name": "PythonData",
   "language": "python",
   "name": "pythondata"
  },
  "language_info": {
   "codemirror_mode": {
    "name": "ipython",
    "version": 3
   },
   "file_extension": ".py",
   "mimetype": "text/x-python",
   "name": "python",
   "nbconvert_exporter": "python",
   "pygments_lexer": "ipython3",
   "version": "3.7.13"
  }
 },
 "nbformat": 4,
 "nbformat_minor": 5
}
